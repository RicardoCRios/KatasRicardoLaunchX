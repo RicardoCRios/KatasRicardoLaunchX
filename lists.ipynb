{
 "cells": [
  {
   "cell_type": "markdown",
   "metadata": {},
   "source": [
    "# Planets"
   ]
  },
  {
   "cell_type": "markdown",
   "metadata": {},
   "source": [
    "## Lists"
   ]
  },
  {
   "cell_type": "code",
   "execution_count": 127,
   "metadata": {},
   "outputs": [],
   "source": [
    "planets = ['Mercury', 'Venus', 'Earth', 'Mars', 'Jupiter', 'Saturn', 'Uranus', 'Neptune']"
   ]
  },
  {
   "cell_type": "code",
   "execution_count": 128,
   "metadata": {},
   "outputs": [
    {
     "name": "stdout",
     "output_type": "stream",
     "text": [
      "El numero de planetas es:  9\n",
      "El ultimo planeta es:  Pluto\n"
     ]
    }
   ],
   "source": [
    "planets.append('Pluto')\n",
    "print(\"El numero de planetas es: \", len(planets))\n",
    "print(\"El ultimo planeta es: \", planets[len(planets) - 1])"
   ]
  },
  {
   "cell_type": "markdown",
   "metadata": {},
   "source": [
    "## Slices"
   ]
  },
  {
   "cell_type": "code",
   "execution_count": 129,
   "metadata": {},
   "outputs": [],
   "source": [
    "planets = ['Mercury', 'Venus', 'Earth', 'Mars', 'Jupiter', 'Saturn', 'Uranus', 'Neptune']"
   ]
  },
  {
   "cell_type": "code",
   "execution_count": 130,
   "metadata": {},
   "outputs": [
    {
     "name": "stdout",
     "output_type": "stream",
     "text": [
      "Jupiter\n"
     ]
    }
   ],
   "source": [
    "import string\n",
    "planet = input(\"Enter a planet: \")\n",
    "if not planet[0] in string.ascii_uppercase:\n",
    "    letter_mayus = planet[0].upper()\n",
    "    planet = letter_mayus + planet[1:]\n",
    "print(planet)"
   ]
  },
  {
   "cell_type": "code",
   "execution_count": 131,
   "metadata": {},
   "outputs": [
    {
     "name": "stdout",
     "output_type": "stream",
     "text": [
      "The planet is in position:  5\n"
     ]
    }
   ],
   "source": [
    "if planet in planets:\n",
    "    planet_posicion = planets.index(planet)\n",
    "    print(\"The planet is in position: \", planet_posicion + 1)\n",
    "else:\n",
    "    print(\"Enter a planet that is correct\")"
   ]
  },
  {
   "cell_type": "code",
   "execution_count": 132,
   "metadata": {},
   "outputs": [
    {
     "name": "stdout",
     "output_type": "stream",
     "text": [
      "the planets closest to the sun with respect to the entered planet are:  ['Mercury', 'Venus', 'Earth', 'Mars']\n"
     ]
    }
   ],
   "source": [
    "planets_close = planets[:planet_posicion]\n",
    "if planet_posicion > 0:\n",
    "    print(\"the planets closest to the sun with respect to the entered planet are: \", planets_close)\n",
    "else:\n",
    "    print(\"There are no planets closer to the sun\")"
   ]
  },
  {
   "cell_type": "code",
   "execution_count": 133,
   "metadata": {},
   "outputs": [
    {
     "name": "stdout",
     "output_type": "stream",
     "text": [
      "The planets farther from the sun with respect to the entered planet are:  ['Saturn', 'Uranus', 'Neptune']\n"
     ]
    }
   ],
   "source": [
    "planets_remote = planets[planet_posicion + 1:]\n",
    "if planet_posicion < len(planets) - 1:\n",
    "    print(\"The planets farther from the sun with respect to the entered planet are: \", planets_remote)\n",
    "else:\n",
    "    print(\"There are no planets farther from the sun\")"
   ]
  }
 ],
 "metadata": {
  "interpreter": {
   "hash": "781571edbc0f01a32fe8e5d73cd063da7eca5fb1c98389b0ae6f1b59e4be3d00"
  },
  "kernelspec": {
   "display_name": "Python 3.9.5 ('env': venv)",
   "language": "python",
   "name": "python3"
  },
  "language_info": {
   "codemirror_mode": {
    "name": "ipython",
    "version": 3
   },
   "file_extension": ".py",
   "mimetype": "text/x-python",
   "name": "python",
   "nbconvert_exporter": "python",
   "pygments_lexer": "ipython3",
   "version": "3.9.5"
  },
  "orig_nbformat": 4
 },
 "nbformat": 4,
 "nbformat_minor": 2
}
