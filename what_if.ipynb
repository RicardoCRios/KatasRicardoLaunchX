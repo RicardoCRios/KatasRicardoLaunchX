{
 "cells": [
  {
   "cell_type": "markdown",
   "metadata": {},
   "source": [
    "# Asteroides"
   ]
  },
  {
   "cell_type": "markdown",
   "metadata": {},
   "source": [
    "Escribimos una lógica condicional que imprima una advertencia si un asteroide se acerca a la Tierra demasiado rápido (cualquier velocidad superior a 25 km/s merece una advertencia)."
   ]
  },
  {
   "cell_type": "code",
   "execution_count": 7,
   "metadata": {},
   "outputs": [
    {
     "name": "stdout",
     "output_type": "stream",
     "text": [
      "Cuidado!!, Un asteroide se aproxima rapidamente\n"
     ]
    }
   ],
   "source": [
    "v_asteroide = 49\n",
    "v_alerta = 25\n",
    "if v_asteroide > v_alerta:\n",
    "    print(\"Cuidado!!, Un asteroide se aproxima rapidamente\")\n",
    "else:\n",
    "    print(\"No hay de que preocuparse\")"
   ]
  },
  {
   "cell_type": "markdown",
   "metadata": {},
   "source": [
    "Escribimos una lógica condicional que imprima una alerta si un asteroide entra a la atmosfera a una velocidad mayor o igual a 20 km/s."
   ]
  },
  {
   "cell_type": "code",
   "execution_count": 8,
   "metadata": {},
   "outputs": [
    {
     "name": "stdout",
     "output_type": "stream",
     "text": [
      "No se ve nada en el cielo\n"
     ]
    }
   ],
   "source": [
    "v_asteroide = 19\n",
    "alerta_luz = 20\n",
    "if v_asteroide > v_alerta:\n",
    "    print(\"Alerta!!, Se ve un rayo de luz en el cielo\")\n",
    "elif v_asteroide == v_alerta:\n",
    "    print(\"Alerta!!, Se ve un rayo de luz en el cielo\")\n",
    "else:\n",
    "    print(\"No se ve nada en el cielo\")\n",
    "\n"
   ]
  },
  {
   "cell_type": "markdown",
   "metadata": {},
   "source": [
    "Escribimos una lógica condicional que imprima las advertencias y alerta anteriores dependiendo de cual sea el caso."
   ]
  },
  {
   "cell_type": "code",
   "execution_count": 9,
   "metadata": {},
   "outputs": [
    {
     "name": "stdout",
     "output_type": "stream",
     "text": [
      "No hay de que preocuparse\n"
     ]
    }
   ],
   "source": [
    "dim_nopeligro = 25\n",
    "v_alerta = 25\n",
    "alerta_luz = 20\n",
    "v_asteroide = 19\n",
    "dim_asteroide = 40\n",
    "if v_asteroide > v_alerta and dim_asteroide > dim_nopeligro:\n",
    "    print(\"Cuidado!!, Un asteroide se aproxima rapidamente y puede causar mucho daño\")\n",
    "elif v_asteroide > v_alerta:\n",
    "    print(\"Cuidado!!, Un asteroide se aproxima rapidamente\")\n",
    "elif v_asteroide >= alerta_luz:\n",
    "    print(\"Alerta!!, Se ve un rayo de luz en el cielo\")\n",
    "elif dim_asteroide < dim_nopeligro:\n",
    "    print(\"No hay de que preocuparse\") \n",
    "else:\n",
    "    print(\"No hay de que preocuparse\")\n",
    "\n",
    "\n",
    "\n"
   ]
  }
 ],
 "metadata": {
  "interpreter": {
   "hash": "781571edbc0f01a32fe8e5d73cd063da7eca5fb1c98389b0ae6f1b59e4be3d00"
  },
  "kernelspec": {
   "display_name": "Python 3.9.5 ('env': venv)",
   "language": "python",
   "name": "python3"
  },
  "language_info": {
   "codemirror_mode": {
    "name": "ipython",
    "version": 3
   },
   "file_extension": ".py",
   "mimetype": "text/x-python",
   "name": "python",
   "nbconvert_exporter": "python",
   "pygments_lexer": "ipython3",
   "version": "3.9.5"
  },
  "orig_nbformat": 4
 },
 "nbformat": 4,
 "nbformat_minor": 2
}
