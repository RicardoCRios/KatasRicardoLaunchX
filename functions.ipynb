{
 "cells": [
  {
   "cell_type": "markdown",
   "metadata": {},
   "source": [
    "# Functions"
   ]
  },
  {
   "cell_type": "markdown",
   "metadata": {},
   "source": [
    "## work with functions"
   ]
  },
  {
   "cell_type": "code",
   "execution_count": 124,
   "metadata": {},
   "outputs": [],
   "source": [
    "def create_report(tank1, tank2, tank3):\n",
    "    average_fuel = (tank1 + tank2 + tank3) / 3\n",
    "    return f\"\"\" Average fuel: {average_fuel}%\n",
    "    Tank 1: {tank1}%\n",
    "    Tank 2: {tank2}%\n",
    "    Tank 3: {tank3}%\"\"\""
   ]
  },
  {
   "cell_type": "code",
   "execution_count": 125,
   "metadata": {},
   "outputs": [
    {
     "name": "stdout",
     "output_type": "stream",
     "text": [
      " Average fuel: 20.0%\n",
      "    Tank 1: 10%\n",
      "    Tank 2: 20%\n",
      "    Tank 3: 30%\n"
     ]
    }
   ],
   "source": [
    "print(create_report(10, 20, 30))"
   ]
  },
  {
   "cell_type": "code",
   "execution_count": 126,
   "metadata": {},
   "outputs": [],
   "source": [
    "def calculate_average(porcents):\n",
    "    average_fuel = sum(porcents) / len(porcents)\n",
    "    return average_fuel"
   ]
  },
  {
   "cell_type": "code",
   "execution_count": 127,
   "metadata": {},
   "outputs": [],
   "source": [
    "def create_report(tank1, tank2, tank3):\n",
    "    return f\"\"\" \n",
    "    Average fuel: {calculate_average([tank1, tank2, tank3])}%\n",
    "    Tank 1: {tank1}%\n",
    "    Tank 2: {tank2}%\n",
    "    Tank 3: {tank3}%\"\"\""
   ]
  },
  {
   "cell_type": "code",
   "execution_count": 128,
   "metadata": {},
   "outputs": [
    {
     "name": "stdout",
     "output_type": "stream",
     "text": [
      " \n",
      "    Average fuel: 20.0%\n",
      "    Tank 1: 10%\n",
      "    Tank 2: 20%\n",
      "    Tank 3: 30%\n"
     ]
    }
   ],
   "source": [
    "print(create_report(10, 20, 30))"
   ]
  },
  {
   "cell_type": "markdown",
   "metadata": {},
   "source": [
    "## Work with arguments"
   ]
  },
  {
   "cell_type": "code",
   "execution_count": 129,
   "metadata": {},
   "outputs": [
    {
     "name": "stdout",
     "output_type": "stream",
     "text": [
      "\n",
      "    Destination: Mars\n",
      "    Estimated total time: 30 minutes\n",
      "    External tank: 30\n",
      "    Internal tank: 50\n"
     ]
    }
   ],
   "source": [
    "def create_report(prelaunch_time, flight_time, destination, external_tank, internal_tank):\n",
    "    total_time = prelaunch_time + flight_time\n",
    "    return f\"\"\"\n",
    "    Destination: {destination}\n",
    "    Estimated total time: {total_time} minutes\n",
    "    External tank: {external_tank}\n",
    "    Internal tank: {internal_tank}\"\"\"\n",
    "\n",
    "print(create_report(10, 20, \"Mars\", 30, 50))"
   ]
  },
  {
   "cell_type": "code",
   "execution_count": 130,
   "metadata": {},
   "outputs": [
    {
     "name": "stdout",
     "output_type": "stream",
     "text": [
      "\n",
      "    Destination: Mars\n",
      "    Estimated total time: 60 minutes\n",
      "    Total fuel: 300\n"
     ]
    }
   ],
   "source": [
    "def create_report(destination, *minutes, **fuel_reservoirs):\n",
    "    total_time = sum(minutes)\n",
    "    total_fuel = sum(fuel_reservoirs.values())\n",
    "    return f\"\"\"\n",
    "    Destination: {destination}\n",
    "    Estimated total time: {total_time} minutes\n",
    "    Total fuel: {total_fuel}\"\"\"\n",
    "\n",
    "print(create_report(\"Mars\", 10, 20, 30, external=100, internal=200))"
   ]
  },
  {
   "cell_type": "code",
   "execution_count": 131,
   "metadata": {},
   "outputs": [
    {
     "name": "stdout",
     "output_type": "stream",
     "text": [
      "\n",
      "    Destination: Mars\n",
      "    Estimated total time: 60 minutes\n",
      "    Total fuel: 300\n",
      "    external tank: 100\n",
      "    internal tank: 200\n",
      "    \n"
     ]
    }
   ],
   "source": [
    "def create_report(destination, *minutes, **fuel_reservoirs):\n",
    "    total_time = sum(minutes)\n",
    "    total_fuel = sum(fuel_reservoirs.values())\n",
    "    report = f\"\"\"\n",
    "    Destination: {destination}\n",
    "    Estimated total time: {total_time} minutes\n",
    "    Total fuel: {total_fuel}\n",
    "    \"\"\"\n",
    "    for tank, fuel in fuel_reservoirs.items():\n",
    "        report += f\"\"\"{tank} tank: {fuel}\n",
    "    \"\"\"\n",
    "    return report\n",
    "\n",
    "print(create_report(\"Mars\", 10, 20, 30, external=100, internal=200))"
   ]
  }
 ],
 "metadata": {
  "interpreter": {
   "hash": "781571edbc0f01a32fe8e5d73cd063da7eca5fb1c98389b0ae6f1b59e4be3d00"
  },
  "kernelspec": {
   "display_name": "Python 3.9.5 ('env': venv)",
   "language": "python",
   "name": "python3"
  },
  "language_info": {
   "codemirror_mode": {
    "name": "ipython",
    "version": 3
   },
   "file_extension": ".py",
   "mimetype": "text/x-python",
   "name": "python",
   "nbconvert_exporter": "python",
   "pygments_lexer": "ipython3",
   "version": "3.9.5"
  },
  "orig_nbformat": 4
 },
 "nbformat": 4,
 "nbformat_minor": 2
}
